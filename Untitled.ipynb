{
  "nbformat": 4,
  "nbformat_minor": 0,
  "metadata": {
    "colab": {
      "name": "Untitled",
      "provenance": [],
      "collapsed_sections": [],
      "authorship_tag": "ABX9TyPJhmRvy9vrEaypoLGLM1XB",
      "include_colab_link": true
    },
    "kernelspec": {
      "name": "python3",
      "display_name": "Python 3"
    }
  },
  "cells": [
    {
      "cell_type": "markdown",
      "metadata": {
        "id": "view-in-github",
        "colab_type": "text"
      },
      "source": [
        "<a href=\"https://colab.research.google.com/github/ohdongsub/subsubhe/blob/master/Untitled.ipynb\" target=\"_parent\"><img src=\"https://colab.research.google.com/assets/colab-badge.svg\" alt=\"Open In Colab\"/></a>"
      ]
    },
    {
      "cell_type": "markdown",
      "metadata": {
        "id": "0RrN9DvDJTzY",
        "colab_type": "text"
      },
      "source": [
        "#인공지능 사관학교 프리코스 과제목차\n",
        "* 1주차과제(2020.6.2) 오동섭\n",
        "\n",
        "\n",
        "1. 언어\n",
        "\n",
        " 구글이 논문으로 발표한 AI 언어모델인 BERT가 변화의 선봉에 서있다. BERT는 가장 대표적인 자연어처리 평가지표인 GLUE와 SQuAD에서 인간보다 더 뛰어난 성적을 보여주면서 전 세계 학계에 충격을 안겼다.\n",
        "\n",
        "[AI 언어 능력 급성장…수년내 인공지능과 사랑에 빠지는 ‘HER’ 현실화”](https://biz.chosun.com/site/data/html_dir/2019/02/08/2019020801834.html)\n",
        "\n",
        "2.음성\n",
        "\n",
        "대표적인 성과로는 행정안전부 대국민서비스인 정부24의 챗봇사업, KB증권, 삼성증권 등 기업 고객센터에 음성인식 기술을 적용해 지능형 컨택센터를 구축한 사례가 있다. 최근에는 AI가 결합된 음성인식 기술이 단순히 음성을 알아듣고 텍스트로 변환해 주는 단계를 넘어, 화자가 사용하는 단어와 목소리 톤 등을 분석해 감정까지 잡아내는 ‘지능형 컨택센터’에 한 발짝 더 다가서고 있다.\n",
        "\n",
        "지능형 컨택센터가 가능해지면 고객상담센터에 전화하는 고객은 ARS 안내를 기다릴 필요 없이 AI 음성봇을 통해 궁금한 사항을 문의하고 답변을 받을 수 있다.\n",
        "\n",
        "출처 : 공학저널(http://www.engjournal.co.kr)\n",
        "\n",
        "출처 : 공학저널(http://www.engjournal.co.kr)\n",
        "[AI 음성인식, 감정까지 잡아낸다고?](http://www.engjournal.co.kr/news/articleView.html?idxno=683)\n",
        "\n",
        "3.이미지\n",
        "\n",
        "우리나라 성인 남녀 사망률 상위를 차지하는 질병, 폐암은 말기에 발견되는 경우 생존율 6.1%지만 조기 발견의 경우 생존율이 64%까지 상승한다고 합니다. 그런데 국내 폐암 환자 조기진단 비율은 20.7%에 불과한데요. 병변의 크기가 작거나 다른 장기에 가려져 판독하기 어려운 경우 X-선 검사에서 폐암을 놓치기 쉬워서 그렇습니다.국내 의료 스타트업에서는 이런 문제점들을 개선하는 이미지 분석 서비스를 내놓고 있습니다. CT검사 결과를 기반으로 학습한 이미지 분석 엔진이 폐 결절을 97% 정확도로 찾아내고, 또 영상 판독을 보조해주는 경우 의사의 판독 정확도는 20%가 향상되는 실험 결과를 내놨습니다.\n",
        "\n",
        "\n",
        "[이미지 인식 AI, 사람보다 정확한 눈으로 세상을 보다!](https://www.samsungsds.com/global/ko/news/story/visual-0214.html)\n",
        "\n",
        "4.자율주행\n",
        "\n",
        "인공지능 기반 운전자 맞춤형 자율주행으로 운전자 주행성향 학습하는 머신러닝 알고리즘 적용, 주행 안정감 향상되었다. 예를 들어, 저속으로 시내를 주행할 때는 앞차와의 차간거리를 매우 가깝게 유지하나 고속 주행 시에는 차간거리를 멀게 유지할 수도 있다. 이번 기술은 다양한 상황을 고려해 총만개 이상의 패턴을 구분함으로써 어떤 운전자의 성향에도 맞출 수 있게 되었다.\n",
        "\n",
        "\n",
        "출처 : 인공지능신문(http://www.aitimes.kr)\n",
        "\n",
        "[현대기아차, AI 기반 '부분 자율주행' 기술 최초 개발...신차에 적용한다](\n",
        "  http://www.aitimes.kr/news/articleView.html?idxno=14500)"
      ]
    }
  ]
}